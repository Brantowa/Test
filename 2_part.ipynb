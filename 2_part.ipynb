{
 "cells": [
  {
   "cell_type": "code",
   "execution_count": 2,
   "metadata": {},
   "outputs": [
    {
     "name": "stdout",
     "output_type": "stream",
     "text": [
      "Requirement already satisfied: pandas in c:\\users\\hp\\anaconda3\\lib\\site-packages (2.2.2)\n",
      "Requirement already satisfied: numpy>=1.26.0 in c:\\users\\hp\\anaconda3\\lib\\site-packages (from pandas) (1.26.4)\n",
      "Requirement already satisfied: python-dateutil>=2.8.2 in c:\\users\\hp\\anaconda3\\lib\\site-packages (from pandas) (2.9.0.post0)\n",
      "Requirement already satisfied: pytz>=2020.1 in c:\\users\\hp\\anaconda3\\lib\\site-packages (from pandas) (2024.1)\n",
      "Requirement already satisfied: tzdata>=2022.7 in c:\\users\\hp\\anaconda3\\lib\\site-packages (from pandas) (2023.3)\n",
      "Requirement already satisfied: six>=1.5 in c:\\users\\hp\\anaconda3\\lib\\site-packages (from python-dateutil>=2.8.2->pandas) (1.16.0)\n",
      "Note: you may need to restart the kernel to use updated packages.\n"
     ]
    }
   ],
   "source": [
    "pip install pandas"
   ]
  },
  {
   "cell_type": "code",
   "execution_count": 170,
   "metadata": {},
   "outputs": [
    {
     "name": "stdout",
     "output_type": "stream",
     "text": [
      "Requirement already satisfied: openpyxl in c:\\users\\hp\\anaconda3\\lib\\site-packages (3.1.2)\n",
      "Requirement already satisfied: et-xmlfile in c:\\users\\hp\\anaconda3\\lib\\site-packages (from openpyxl) (1.1.0)\n",
      "Note: you may need to restart the kernel to use updated packages.\n"
     ]
    }
   ],
   "source": [
    "pip install openpyxl"
   ]
  },
  {
   "cell_type": "code",
   "execution_count": 2,
   "metadata": {},
   "outputs": [],
   "source": [
    "import pandas as pd\n",
    "import numpy as np\n",
    "import matplotlib.pyplot as plt"
   ]
  },
  {
   "cell_type": "code",
   "execution_count": 3,
   "metadata": {},
   "outputs": [
    {
     "name": "stdout",
     "output_type": "stream",
     "text": [
      "   client_id      sum      status     sale new/current  Unnamed: 5  document  \\\n",
      "0        NaN      NaN    Май 2021      NaN         NaN         NaN       NaN   \n",
      "1        6.0  11693.7  ВНУТРЕННИЙ        -           -         NaN         -   \n",
      "2       14.0   5452.7    ОПЛАЧЕНО  Петрова       новая         NaN  оригинал   \n",
      "3       15.0  13991.7    ОПЛАЧЕНО   Иванов     текущая         NaN  оригинал   \n",
      "4       16.0    719.7    ОПЛАЧЕНО   Иванов     текущая         NaN  оригинал   \n",
      "\n",
      "        receiving_date  \n",
      "0                  NaN  \n",
      "1                    -  \n",
      "2  2021-07-26 00:00:00  \n",
      "3  2021-06-08 00:00:00  \n",
      "4  2021-06-08 00:00:00  \n"
     ]
    }
   ],
   "source": [
    "# 1. Считывание данных\n",
    "\n",
    "file_path = 'data.xlsx'\n",
    "df = pd.read_excel(file_path)\n",
    "print(df.head())"
   ]
  },
  {
   "cell_type": "code",
   "execution_count": 4,
   "metadata": {},
   "outputs": [
    {
     "name": "stdout",
     "output_type": "stream",
     "text": [
      "client_id         float64\n",
      "sum               float64\n",
      "status             object\n",
      "sale               object\n",
      "new/current        object\n",
      "Unnamed: 5        float64\n",
      "document           object\n",
      "receiving_date     object\n",
      "dtype: object\n"
     ]
    }
   ],
   "source": [
    "print(df.dtypes)\n"
   ]
  },
  {
   "cell_type": "code",
   "execution_count": 5,
   "metadata": {},
   "outputs": [
    {
     "name": "stdout",
     "output_type": "stream",
     "text": [
      "   client_id      sum      status     sale new/current  document  \\\n",
      "0       <NA>      NaN    Май 2021      nan         nan       nan   \n",
      "1          6  11693.7  ВНУТРЕННИЙ        -           -         -   \n",
      "2         14   5452.7    ОПЛАЧЕНО  Петрова       новая  оригинал   \n",
      "3         15  13991.7    ОПЛАЧЕНО   Иванов     текущая  оригинал   \n",
      "4         16    719.7    ОПЛАЧЕНО   Иванов     текущая  оригинал   \n",
      "\n",
      "  receiving_date  \n",
      "0            NaT  \n",
      "1            NaT  \n",
      "2     2021-07-26  \n",
      "3     2021-06-08  \n",
      "4     2021-06-08  \n"
     ]
    },
    {
     "name": "stderr",
     "output_type": "stream",
     "text": [
      "C:\\Users\\HP\\AppData\\Local\\Temp\\ipykernel_2880\\3839036753.py:3: UserWarning: Could not infer format, so each element will be parsed individually, falling back to `dateutil`. To ensure parsing is consistent and as-expected, please specify a format.\n",
      "  df['receiving_date'] = pd.to_datetime(df['receiving_date'], errors='coerce') # преобразовали тип данных\n"
     ]
    }
   ],
   "source": [
    "# 2. Преобразование данных\n",
    "\n",
    "df['receiving_date'] = pd.to_datetime(df['receiving_date'], errors='coerce') # преобразовали тип данных\n",
    "if 'Unnamed: 5' in df.columns:\n",
    "    df.drop(columns=['Unnamed: 5'], inplace=True) # удалили пустую колонку\n",
    "df['client_id'] = df['client_id'].astype('Int64')\n",
    "df['status'] = df['status'].astype('str')\n",
    "df['sale'] = df['sale'].astype('str')\n",
    "df['sale'] = df['sale'].replace('', np.nan) \n",
    "df['new/current'] = df['new/current'].astype('str')\n",
    "df['document'] = df['document'].astype('str')\n",
    "df['client_id'] = df['client_id'].replace('', np.nan)\n",
    "df = df.drop_duplicates() # удаляем строки-дубли\n",
    "\n",
    "print(df.head())"
   ]
  },
  {
   "cell_type": "code",
   "execution_count": 8,
   "metadata": {},
   "outputs": [
    {
     "name": "stdout",
     "output_type": "stream",
     "text": [
      "   client_id      sum      status     sale new/current  document  \\\n",
      "0       <NA>      NaN    Май 2021      nan         nan       nan   \n",
      "1          6  11693.7  ВНУТРЕННИЙ        -           -         -   \n",
      "2         14   5452.7    ОПЛАЧЕНО  Петрова       новая  оригинал   \n",
      "3         15  13991.7    ОПЛАЧЕНО   Иванов     текущая  оригинал   \n",
      "4         16    719.7    ОПЛАЧЕНО   Иванов     текущая  оригинал   \n",
      "\n",
      "  receiving_date      date  \n",
      "0            NaT  Май 2021  \n",
      "1            NaT  Май 2021  \n",
      "2     2021-07-26  Май 2021  \n",
      "3     2021-06-08  Май 2021  \n",
      "4     2021-06-08  Май 2021  \n"
     ]
    }
   ],
   "source": [
    "df['date'] = df['status']\n",
    "df.loc[df['client_id'].notna(), 'date'] = np.nan\n",
    "df['date'] = df['date'].ffill()\n",
    "print(df.head())"
   ]
  },
  {
   "cell_type": "code",
   "execution_count": 9,
   "metadata": {},
   "outputs": [
    {
     "name": "stdout",
     "output_type": "stream",
     "text": [
      "   client_id      sum      status     sale new/current  document  \\\n",
      "1          6  11693.7  ВНУТРЕННИЙ        -           -         -   \n",
      "2         14   5452.7    ОПЛАЧЕНО  Петрова       новая  оригинал   \n",
      "3         15  13991.7    ОПЛАЧЕНО   Иванов     текущая  оригинал   \n",
      "4         16    719.7    ОПЛАЧЕНО   Иванов     текущая  оригинал   \n",
      "5         18   4253.7    ОПЛАЧЕНО   Иванов     текущая  оригинал   \n",
      "\n",
      "  receiving_date      date  \n",
      "1            NaT  Май 2021  \n",
      "2     2021-07-26  Май 2021  \n",
      "3     2021-06-08  Май 2021  \n",
      "4     2021-06-08  Май 2021  \n",
      "5     2021-07-07  Май 2021  \n"
     ]
    }
   ],
   "source": [
    "# 2. Преобразование данных\n",
    "\n",
    "df['receiving_date'] = pd.to_datetime(df['receiving_date'], errors='coerce') # преобразовали тип данных\n",
    "if 'Unnamed: 5' in df.columns:\n",
    "    df.drop(columns=['Unnamed: 5'], inplace=True) # удалили пустую колонку\n",
    "df['client_id'] = df['client_id'].astype('Int64')\n",
    "df['status'] = df['status'].astype('str')\n",
    "df['sale'] = df['sale'].astype('str')\n",
    "df['sale'] = df['sale'].replace('', np.nan) \n",
    "df['new/current'] = df['new/current'].astype('str')\n",
    "df['document'] = df['document'].astype('str')\n",
    "df['client_id'] = df['client_id'].replace('', np.nan)\n",
    "df = df.drop_duplicates() # удаляем строки-дубли\n",
    "df = df.dropna(subset=['client_id']) # Избавляемся от личшних строк с месяцами в статусе\n",
    "print(df.head())"
   ]
  },
  {
   "cell_type": "code",
   "execution_count": 10,
   "metadata": {},
   "outputs": [
    {
     "name": "stdout",
     "output_type": "stream",
     "text": [
      "Количество строк: 691\n"
     ]
    }
   ],
   "source": [
    "row_count = df.shape[0]\n",
    "print(f\"Количество строк: {row_count}\")"
   ]
  },
  {
   "cell_type": "code",
   "execution_count": 11,
   "metadata": {},
   "outputs": [
    {
     "name": "stdout",
     "output_type": "stream",
     "text": [
      "client_id                  Int64\n",
      "sum                      float64\n",
      "status                    object\n",
      "sale                      object\n",
      "new/current               object\n",
      "document                  object\n",
      "receiving_date    datetime64[ns]\n",
      "date                      object\n",
      "dtype: object\n"
     ]
    }
   ],
   "source": [
    "print(df.dtypes)"
   ]
  },
  {
   "cell_type": "code",
   "execution_count": 12,
   "metadata": {},
   "outputs": [
    {
     "name": "stdout",
     "output_type": "stream",
     "text": [
      "Общая выручка за июль 2021 по сделкам без просрочек: 826622.6699999997\n"
     ]
    }
   ],
   "source": [
    "# 1) Вычислите общую выручку за июль 2021 по тем сделкам, приход денежных средств которых не просрочен.\n",
    "\n",
    "df_filtered = df[df['status'] != 'ПРОСРОЧЕНО'] # убираем строки со статусом ПРОСРОЧЕНО\n",
    "df_july = df_filtered[df_filtered['date'] == 'Июль 2021'] # фильтруем по дате\n",
    "total_revenue = df_july['sum'].sum() # считаем сумму по колонке sum\n",
    "print(f\"Общая выручка за июль 2021 по сделкам без просрочек: {total_revenue}\")"
   ]
  },
  {
   "cell_type": "code",
   "execution_count": 14,
   "metadata": {},
   "outputs": [
    {
     "name": "stdout",
     "output_type": "stream",
     "text": [
      "status       В РАБОТЕ  ВНУТРЕННИЙ  НА ПОДПИСАНИИ   ОПЛАЧЕНО  ПРОСРОЧЕНО\n",
      "date                                                                   \n",
      "2021-05-01       0.00     11693.7           0.00  784273.69     8903.70\n",
      "2021-06-01       0.00         0.0           0.00  771659.01     8823.70\n",
      "2021-07-01       0.00         0.0           0.00  826622.67     1977.70\n",
      "2021-08-01   14627.40         0.0           0.00  754440.79    64967.80\n",
      "2021-09-01   58495.47         0.0           0.00  711220.31    36767.00\n",
      "2021-10-01  223810.16         0.0       19366.61  407202.47   324458.15\n"
     ]
    }
   ],
   "source": [
    "# 2) Как изменялась выручка компании за рассматриваемый период? Проиллюстрируйте графиком.\n",
    "\n",
    "months_translation = {\n",
    "    'Январь': 'January',\n",
    "    'Февраль': 'February',\n",
    "    'Март': 'March',\n",
    "    'Апрель': 'April',\n",
    "    'Май': 'May',\n",
    "    'Июнь': 'June',\n",
    "    'Июль': 'July',\n",
    "    'Август': 'August',\n",
    "    'Сентябрь': 'September',\n",
    "    'Октябрь': 'October',\n",
    "    'Ноябрь': 'November',\n",
    "    'Декабрь': 'December'\n",
    "}\n",
    "\n",
    "def translate_month(month_year):\n",
    "    for ru_month, en_month in months_translation.items():\n",
    "        if ru_month in month_year:\n",
    "            return month_year.replace(ru_month, en_month)\n",
    "    return month_year\n",
    "\n",
    "# Применяем функцию к столбцу\n",
    "df_with_date = df\n",
    "df_with_date['date'] = df_with_date['date'].apply(translate_month)\n",
    "df_with_date['date'] = pd.to_datetime(df['date'], format='%B %Y') \n",
    "\n",
    "monthly_revenue_status = df_with_date.groupby(['date', 'status'])['sum'].sum().unstack().fillna(0) \n",
    "print(monthly_revenue_status)\n",
    "# получаем данные о выручкем по месяцам в зависимости от статуса"
   ]
  },
  {
   "cell_type": "code",
   "execution_count": 15,
   "metadata": {},
   "outputs": [
    {
     "data": {
      "image/png": "[encoded data removed]",
      "text/plain": [
       "<Figure size 1400x700 with 1 Axes>"
      ]
     },
     "metadata": {},
     "output_type": "display_data"
    }
   ],
   "source": [
    "# Благодаря графику видим, что пиковое значение выручка достигла в июле, далее стала постепенно проседать\n",
    "\n",
    "plt.figure(figsize=(14, 7))\n",
    "for status in monthly_revenue_status.columns:\n",
    "    plt.plot(monthly_revenue_status.index.astype(str), monthly_revenue_status[status], marker='o', label=status)\n",
    "plt.title('Выручка по месяцам с учетом статуса')\n",
    "plt.xticks(rotation=45)  \n",
    "plt.legend(title='Статус')\n",
    "plt.grid(True)  # Добавляем сетку для лучшего восприятия\n",
    "plt.tight_layout() # Автоматическая корректировка расположения элементов\n"
   ]
  },
  {
   "cell_type": "code",
   "execution_count": 24,
   "metadata": {},
   "outputs": [
    {
     "name": "stdout",
     "output_type": "stream",
     "text": [
      "Рекордсменом по привлечению денежных средств за сентябрь 2021г стал(а): Смирнов, с суммой оплаченных сделок: 195817.2\n"
     ]
    }
   ],
   "source": [
    "# 3) Кто из менеджеров привлек для компании больше всего денежных средств в сентябре 2021?\n",
    "\n",
    "df_september = df[(df['date'] == '2021-09') & (df['status'] == 'ОПЛАЧЕНО')]\n",
    "manager_revenue = df_september.groupby('sale')['sum'].sum()\n",
    "\n",
    "top_manager = manager_revenue.idxmax()\n",
    "top_revenue = manager_revenue.max()\n",
    "print(f\"Рекордсменом по привлечению денежных средств за сентябрь 2021г стал(а): {top_manager}, с суммой оплаченных сделок: {top_revenue}\")"
   ]
  },
  {
   "cell_type": "code",
   "execution_count": 25,
   "metadata": {},
   "outputs": [
    {
     "name": "stdout",
     "output_type": "stream",
     "text": [
      "new/current\n",
      "текущая    95\n",
      "новая      35\n",
      "Name: count, dtype: int64\n",
      "Преобладающим типом сделок за октябрь 2021 является: текущая\n"
     ]
    }
   ],
   "source": [
    "# 4) Какой тип сделок (новая/текущая) был преобладающим в октябре 2021?\n",
    "\n",
    "df_october = df[df['date'] == '2021-10']\n",
    "deal_counts = df_october['new/current'].value_counts()\n",
    "top_deal_type = deal_counts.idxmax()\n",
    "print(deal_counts)\n",
    "print(f\"Преобладающим типом сделок за октябрь 2021 является: {top_deal_type}\")"
   ]
  },
  {
   "cell_type": "code",
   "execution_count": null,
   "metadata": {},
   "outputs": [],
   "source": [
    "# 5) Сколько оригиналов договора по майским сделкам было получено в июне 2021?\n",
    "\n",
    "df_june = df[(df['date'] == '2021-05') & (df['receiving_date'].dt.month == 6) & (df['receiving_date'].dt.year == 2021)]\n",
    "originals_count = df_june[df_june['document'] == 'оригинал'].shape[0]\n",
    "\n",
    "print(f\"Общее количество оригиналов договора по майским сделкам: {originals_count}\") "
   ]
  },
  {
   "cell_type": "code",
   "execution_count": 34,
   "metadata": {},
   "outputs": [
    {
     "name": "stdout",
     "output_type": "stream",
     "text": [
      "     client_id      sum      status        sale new/current  document  \\\n",
      "1            6  11693.7  ВНУТРЕННИЙ           -           -         -   \n",
      "2           14   5452.7    ОПЛАЧЕНО     Петрова       новая  оригинал   \n",
      "3           15  13991.7    ОПЛАЧЕНО      Иванов     текущая  оригинал   \n",
      "4           16    719.7    ОПЛАЧЕНО      Иванов     текущая  оригинал   \n",
      "5           18   4253.7    ОПЛАЧЕНО      Иванов     текущая  оригинал   \n",
      "..         ...      ...         ...         ...         ...       ...   \n",
      "725        285   4328.7    ОПЛАЧЕНО    Васильев     текущая  оригинал   \n",
      "726        360   3096.2    ОПЛАЧЕНО    Васильев       новая       НЕТ   \n",
      "727        360   3096.2  ПРОСРОЧЕНО    Васильев       новая       НЕТ   \n",
      "728        373   4403.7    ОПЛАЧЕНО    Михайлов       новая  оригинал   \n",
      "729        286   3978.7    ОПЛАЧЕНО  Филимонова     текущая  оригинал   \n",
      "\n",
      "    receiving_date       date  \n",
      "1              NaT 2021-05-01  \n",
      "2       2021-07-26 2021-05-01  \n",
      "3       2021-06-08 2021-05-01  \n",
      "4       2021-06-08 2021-05-01  \n",
      "5       2021-07-07 2021-05-01  \n",
      "..             ...        ...  \n",
      "725     2021-11-15 2021-10-01  \n",
      "726            NaT 2021-10-01  \n",
      "727            NaT 2021-10-01  \n",
      "728     2021-11-08 2021-10-01  \n",
      "729     2021-11-15 2021-10-01  \n",
      "\n",
      "[691 rows x 8 columns]\n"
     ]
    }
   ],
   "source": [
    "print(df)"
   ]
  },
  {
   "cell_type": "code",
   "execution_count": null,
   "metadata": {},
   "outputs": [],
   "source": [
    "# За каждую заключенную сделку менеджер получает бонус, который рассчитывается следующим образом.\n",
    "# 1) За новые сделки менеджер получает 7 % от суммы, при условии, что статус оплаты «ОПЛАЧЕНО», а также имеется оригинал подписанного договора с\n",
    "# клиентом (в рассматриваемом месяце).\n",
    "# 2) За текущие сделки менеджер получает 5 % от суммы, если она больше 10 тыс,и 3 % от суммы, если меньше. При этом статус оплаты может быть любым\n",
    "# кроме «ПРОСРОЧЕНО», а также необходимо наличие оригинала подписанного договора с клиентом (в рассматриваемом месяце).\n",
    "# Бонусы по сделкам, оригиналы для которых приходят позже рассматриваемого месяца, считаются остатком на следующий период, \n",
    "# который выплачивается по мере прихода оригиналов. Вычислите остаток каждого из менеджеров на 01.07.2021."
   ]
  },
  {
   "cell_type": "code",
   "execution_count": 46,
   "metadata": {},
   "outputs": [
    {
     "name": "stderr",
     "output_type": "stream",
     "text": [
      "C:\\Users\\HP\\AppData\\Local\\Temp\\ipykernel_2880\\1728570587.py:16: SettingWithCopyWarning: \n",
      "A value is trying to be set on a copy of a slice from a DataFrame.\n",
      "Try using .loc[row_indexer,col_indexer] = value instead\n",
      "\n",
      "See the caveats in the documentation: https://pandas.pydata.org/pandas-docs/stable/user_guide/indexing.html#returning-a-view-versus-a-copy\n",
      "  df_june_deal['bonus'] = df_june_deal.apply(calculate_bonus, axis=1)\n"
     ]
    },
    {
     "data": {
      "text/html": [
       "<div>\n",
       "<style scoped>\n",
       "    .dataframe tbody tr th:only-of-type {\n",
       "        vertical-align: middle;\n",
       "    }\n",
       "\n",
       "    .dataframe tbody tr th {\n",
       "        vertical-align: top;\n",
       "    }\n",
       "\n",
       "    .dataframe thead th {\n",
       "        text-align: right;\n",
       "    }\n",
       "</style>\n",
       "<table border=\"1\" class=\"dataframe\">\n",
       "  <thead>\n",
       "    <tr style=\"text-align: right;\">\n",
       "      <th></th>\n",
       "      <th>sale</th>\n",
       "      <th>bonus</th>\n",
       "    </tr>\n",
       "  </thead>\n",
       "  <tbody>\n",
       "    <tr>\n",
       "      <th>0</th>\n",
       "      <td>Андреев</td>\n",
       "      <td>2962.1717</td>\n",
       "    </tr>\n",
       "    <tr>\n",
       "      <th>1</th>\n",
       "      <td>Васильев</td>\n",
       "      <td>339.2310</td>\n",
       "    </tr>\n",
       "    <tr>\n",
       "      <th>2</th>\n",
       "      <td>Иванов</td>\n",
       "      <td>2503.8390</td>\n",
       "    </tr>\n",
       "    <tr>\n",
       "      <th>3</th>\n",
       "      <td>Кузнецова</td>\n",
       "      <td>2604.6716</td>\n",
       "    </tr>\n",
       "    <tr>\n",
       "      <th>4</th>\n",
       "      <td>Петрова</td>\n",
       "      <td>7028.8020</td>\n",
       "    </tr>\n",
       "    <tr>\n",
       "      <th>5</th>\n",
       "      <td>Селиванов</td>\n",
       "      <td>353.3220</td>\n",
       "    </tr>\n",
       "    <tr>\n",
       "      <th>6</th>\n",
       "      <td>Смирнов</td>\n",
       "      <td>4078.7240</td>\n",
       "    </tr>\n",
       "    <tr>\n",
       "      <th>7</th>\n",
       "      <td>Филимонова</td>\n",
       "      <td>306.0720</td>\n",
       "    </tr>\n",
       "  </tbody>\n",
       "</table>\n",
       "</div>"
      ],
      "text/plain": [
       "         sale      bonus\n",
       "0     Андреев  2962.1717\n",
       "1    Васильев   339.2310\n",
       "2      Иванов  2503.8390\n",
       "3   Кузнецова  2604.6716\n",
       "4     Петрова  7028.8020\n",
       "5   Селиванов   353.3220\n",
       "6     Смирнов  4078.7240\n",
       "7  Филимонова   306.0720"
      ]
     },
     "metadata": {},
     "output_type": "display_data"
    }
   ],
   "source": [
    "# Бонусы, заработанные за июнь\n",
    "\n",
    "df_june_deal = df[(df['receiving_date'].dt.month == 6) & (df['receiving_date'].dt.year == 2021)] \n",
    "\n",
    "def calculate_bonus(row):\n",
    "    bonus = 0\n",
    "    if row['new/current'] == 'новая' and row['status'] == 'ОПЛАЧЕНО' and row['document'] == 'оригинал':\n",
    "        bonus = row['sum'] * 0.07\n",
    "    elif row['new/current'] == 'текущая'  and row['status'] != 'ПРОСРОЧЕНО' and row['document'] == 'оригинал':\n",
    "        if row['sum'] > 10000:\n",
    "                bonus = row['sum'] * 0.05\n",
    "        else:\n",
    "                bonus = row['sum'] * 0.03\n",
    "    return bonus\n",
    "\n",
    "df_june_deal['bonus'] = df_june_deal.apply(calculate_bonus, axis=1)\n",
    "# Группируем по менеджерам и суммируем бонусы\n",
    "bonus_summary = df_june_deal.groupby('sale')['bonus'].sum().reset_index()\n",
    "\n",
    "display(bonus_summary)"
   ]
  }
 ],
 "metadata": {
  "kernelspec": {
   "display_name": "base",
   "language": "python",
   "name": "python3"
  },
  "language_info": {
   "codemirror_mode": {
    "name": "ipython",
    "version": 3
   },
   "file_extension": ".py",
   "mimetype": "text/x-python",
   "name": "python",
   "nbconvert_exporter": "python",
   "pygments_lexer": "ipython3",
   "version": "3.12.4"
  }
 },
 "nbformat": 4,
 "nbformat_minor": 2
}
